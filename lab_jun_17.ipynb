{
  "nbformat": 4,
  "nbformat_minor": 0,
  "metadata": {
    "colab": {
      "provenance": [],
      "authorship_tag": "ABX9TyNLis8XdRiEBA+0NaBFJcxN",
      "include_colab_link": true
    },
    "kernelspec": {
      "name": "python3",
      "display_name": "Python 3"
    },
    "language_info": {
      "name": "python"
    }
  },
  "cells": [
    {
      "cell_type": "markdown",
      "metadata": {
        "id": "view-in-github",
        "colab_type": "text"
      },
      "source": [
        "<a href=\"https://colab.research.google.com/github/Geovanny-S/HackTheHood/blob/main/lab_jun_17.ipynb\" target=\"_parent\"><img src=\"https://colab.research.google.com/assets/colab-badge.svg\" alt=\"Open In Colab\"/></a>"
      ]
    },
    {
      "cell_type": "markdown",
      "source": [
        "# Lab Jun.17\n",
        "\n",
        "##Intro to Pseudo Code\n",
        "\n",
        "1) Must start with a Letter or _Underscore\n",
        "\n",
        "2) Consists of Letters, numbers and Underscores But it will ot start witha a Number\n",
        "\n",
        "3) Variable names are case sensitive\n"
      ],
      "metadata": {
        "id": "95wq1r8azSzn"
      }
    },
    {
      "cell_type": "code",
      "source": [
        "car = \"Mercedes\"\n",
        "Car = \"Audi\""
      ],
      "metadata": {
        "id": "QXNEefqo0WF2"
      },
      "execution_count": null,
      "outputs": []
    },
    {
      "cell_type": "code",
      "source": [
        "car"
      ],
      "metadata": {
        "colab": {
          "base_uri": "https://localhost:8080/",
          "height": 35
        },
        "id": "gmeDFl7S0vVC",
        "outputId": "cf962469-9456-4dbf-f98c-fac27f580095"
      },
      "execution_count": null,
      "outputs": [
        {
          "output_type": "execute_result",
          "data": {
            "text/plain": [
              "'Mercedes'"
            ],
            "application/vnd.google.colaboratory.intrinsic+json": {
              "type": "string"
            }
          },
          "metadata": {},
          "execution_count": 4
        }
      ]
    },
    {
      "cell_type": "code",
      "source": [
        "print(Car)"
      ],
      "metadata": {
        "colab": {
          "base_uri": "https://localhost:8080/"
        },
        "id": "Up2eW4EL03rw",
        "outputId": "30deaf73-10fe-4372-96da-9556046e2c89"
      },
      "execution_count": null,
      "outputs": [
        {
          "output_type": "stream",
          "name": "stdout",
          "text": [
            "Audi\n"
          ]
        }
      ]
    },
    {
      "cell_type": "markdown",
      "source": [
        "### Psuedo code for my application\n",
        "\n",
        "I want to write a program that takes usr input and prints it back to the screen.\n",
        "\n",
        "'First_name' the user's first name\n",
        "\n",
        "'Last_Name' the user's last name\n",
        "\n",
        "'Age' the user's age\n",
        "\n",
        "'Fav_Clour' the user's favorite colour\n",
        "\n",
        "'Fav_Sport' the user's favrite sport\n",
        "\n",
        "'Fav_Team' the user's favorite team\n",
        "\n",
        "use a 'built-in' peocess to. take use's data.\n",
        "\n",
        "use a 'built-in' process to display user's data\n",
        "\n",
        "\n"
      ],
      "metadata": {
        "id": "l692yqk207aC"
      }
    },
    {
      "cell_type": "markdown",
      "source": [
        "##Code for my application"
      ],
      "metadata": {
        "id": "0UCymvHWQbcC"
      }
    },
    {
      "cell_type": "code",
      "source": [
        "First_name = 'Geovanny'\n",
        "Last_Name = 'Salgado'\n",
        "Age = 16\n",
        "Fav_Colour = 'blue'\n",
        "Fav_Sport = 'soccer'\n",
        "Fav_Team = 'Real Madrid'"
      ],
      "metadata": {
        "id": "MJMtb0WV2m06"
      },
      "execution_count": 1,
      "outputs": []
    },
    {
      "cell_type": "code",
      "source": [
        "print(First_name)\n",
        "print(Last_Name)\n",
        "print(Age)\n",
        "print(Fav_Colour)\n",
        "print(Fav_Sport)\n",
        "print(Fav_Team)"
      ],
      "metadata": {
        "colab": {
          "base_uri": "https://localhost:8080/"
        },
        "id": "d8U5TelQQx4A",
        "outputId": "06193b4e-33ac-4f0c-ea14-860f11c7bd97"
      },
      "execution_count": 2,
      "outputs": [
        {
          "output_type": "stream",
          "name": "stdout",
          "text": [
            "Geovanny\n",
            "Salgado\n",
            "16\n",
            "blue\n",
            "soccer\n",
            "Real Madrid\n"
          ]
        }
      ]
    },
    {
      "cell_type": "code",
      "source": [
        "First_name = input('What is your first name? ')\n",
        "# In this line I am using the input method to ask the user's first name\n",
        "\n",
        "Last_Name = input('What is your last name? ')\n",
        "# In this line I am using the input method to ask the user's last name\n",
        "\n",
        "Age = input('What is your age?')\n",
        "# # In this line I am using the input method to ask the user's age\n",
        "Fav_Colour = input('What is your favorite colour?')\n",
        "# In this line I am using the input method to ask the user's favorite colour\n",
        "\n",
        "Fav_Sport = input('WHat is your favourite sport?')\n",
        "# In this line I am using the input method to ask the user's favorite sport\n",
        "Fav_Team = input('What is your favorite team?')\n",
        "# In this line I am using the input method to ask the user's favorite team\n"
      ],
      "metadata": {
        "id": "rUTr0XtCRi8I"
      },
      "execution_count": null,
      "outputs": []
    },
    {
      "cell_type": "code",
      "source": [
        "print(f\"User first name is, {First_name}, last name is, {Last_Name}, age is, {Age},\\\n",
        " favourite colour is, {Fav_Colour}, favourite sport is, {Fav_Sport}, favourite team is, {Fav_Team}\")"
      ],
      "metadata": {
        "colab": {
          "base_uri": "https://localhost:8080/"
        },
        "id": "jEcdc9iP4vfX",
        "outputId": "db9d9e7e-17c0-46a9-dcb9-2465971bcf37"
      },
      "execution_count": null,
      "outputs": [
        {
          "output_type": "stream",
          "name": "stdout",
          "text": [
            "User first name is, Geovanny, last name is, Salgado, age is, 16, favourite colour is, blue, favourite sport is, soccer, favourite team is, Real Madrid\n"
          ]
        }
      ]
    }
  ]
}